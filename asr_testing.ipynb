{
 "cells": [
  {
   "cell_type": "code",
   "execution_count": 1,
   "id": "9720c9fe",
   "metadata": {},
   "outputs": [],
   "source": [
    "# Speech recognition source:\n",
    "# https://pytorch.org/hub/snakers4_silero-models_stt/"
   ]
  },
  {
   "cell_type": "code",
   "execution_count": 1,
   "id": "d97599b9",
   "metadata": {},
   "outputs": [
    {
     "name": "stderr",
     "output_type": "stream",
     "text": [
      "C:\\Users\\ninja\\.conda\\envs\\ml-env\\lib\\site-packages\\torchaudio\\extension\\extension.py:13: UserWarning: torchaudio C++ extension is not available.\n",
      "  warnings.warn('torchaudio C++ extension is not available.')\n"
     ]
    }
   ],
   "source": [
    "import torch\n",
    "import torchaudio\n",
    "\n",
    "from recording import record_audio"
   ]
  },
  {
   "cell_type": "code",
   "execution_count": 2,
   "id": "0fab8431",
   "metadata": {},
   "outputs": [
    {
     "name": "stdout",
     "output_type": "stream",
     "text": [
      "cuda\n"
     ]
    }
   ],
   "source": [
    "device = torch.device('cuda' if torch.cuda.is_available() else 'cpu')\n",
    "print(device)"
   ]
  },
  {
   "cell_type": "code",
   "execution_count": 3,
   "id": "9183b3c8",
   "metadata": {},
   "outputs": [
    {
     "name": "stderr",
     "output_type": "stream",
     "text": [
      "Using cache found in C:\\Users\\ninja/.cache\\torch\\hub\\snakers4_silero-models_master\n"
     ]
    }
   ],
   "source": [
    "model, decoder, utils = torch.hub.load(\n",
    "  repo_or_dir='snakers4/silero-models',\n",
    "  model='silero_stt',\n",
    "  language='en',\n",
    "  device=device)"
   ]
  },
  {
   "cell_type": "code",
   "execution_count": 4,
   "id": "ea15ed11",
   "metadata": {},
   "outputs": [
    {
     "name": "stdout",
     "output_type": "stream",
     "text": [
      "################################################################################\n",
      "press Ctrl+C to stop the recording\n",
      "################################################################################\n"
     ]
    }
   ],
   "source": [
    "audio_input, samplerate = record_audio()"
   ]
  },
  {
   "cell_type": "code",
   "execution_count": 5,
   "id": "e44ffe07",
   "metadata": {},
   "outputs": [],
   "source": [
    "def format_audio(data, samplerate, device, target_samplerate=16000):\n",
    "  data = torch.tensor(data, device=device)\n",
    "  \n",
    "  if data.size(0) > 1:\n",
    "    data = data.mean(dim=0, keepdim=True)\n",
    "\n",
    "  if samplerate != target_samplerate:\n",
    "    transform = torchaudio.transforms.Resample(\n",
    "      orig_freq=samplerate, new_freq=target_samplerate)\n",
    "    data = transform(data)\n",
    "\n",
    "  return data\n",
    "\n",
    "audio_data = format_audio(audio_input, samplerate, device)"
   ]
  },
  {
   "cell_type": "code",
   "execution_count": 7,
   "id": "88216856",
   "metadata": {},
   "outputs": [
    {
     "name": "stdout",
     "output_type": "stream",
     "text": [
      "how is this going to do neihungo dickyou must call\n"
     ]
    }
   ],
   "source": [
    "output = model(audio_data)\n",
    "output_text = decoder(output[0].cpu())\n",
    "print(output_text)"
   ]
  }
 ],
 "metadata": {
  "kernelspec": {
   "display_name": "Python 3",
   "language": "python",
   "name": "python3"
  },
  "language_info": {
   "codemirror_mode": {
    "name": "ipython",
    "version": 3
   },
   "file_extension": ".py",
   "mimetype": "text/x-python",
   "name": "python",
   "nbconvert_exporter": "python",
   "pygments_lexer": "ipython3",
   "version": "3.9.2"
  }
 },
 "nbformat": 4,
 "nbformat_minor": 5
}
